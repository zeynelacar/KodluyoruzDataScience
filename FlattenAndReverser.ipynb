{
 "cells": [
  {
   "cell_type": "markdown",
   "id": "28f13f93",
   "metadata": {},
   "source": [
    "# REVERSE ANY LIST"
   ]
  },
  {
   "cell_type": "code",
   "execution_count": 2,
   "id": "0a0e3119",
   "metadata": {},
   "outputs": [
    {
     "data": {
      "text/plain": [
       "[[4, [8, 3], 2], 1]"
      ]
     },
     "execution_count": 2,
     "metadata": {},
     "output_type": "execute_result"
    }
   ],
   "source": [
    "l=[1,[2,[3,8],4]]\n",
    "def revrs(l):\n",
    "    newList=[]\n",
    "    for i in l:\n",
    "        if isinstance(i,list):\n",
    "            \n",
    "            newList.append(revrs(i))\n",
    "        else:\n",
    "            newList.append(i)\n",
    "            \n",
    "        reversedList=newList[::-1]\n",
    "    return reversedList\n",
    "\n",
    "revrs(l)"
   ]
  },
  {
   "cell_type": "markdown",
   "id": "30315b28",
   "metadata": {},
   "source": [
    "# FLATTEN ANY LIST\n"
   ]
  },
  {
   "cell_type": "code",
   "execution_count": 4,
   "id": "c3c8d082",
   "metadata": {},
   "outputs": [
    {
     "data": {
      "text/plain": [
       "[1, 2, 3, 8, 4]"
      ]
     },
     "execution_count": 4,
     "metadata": {},
     "output_type": "execute_result"
    }
   ],
   "source": [
    "l=[1,[2,[3,8],4]]\n",
    "flatList=[]\n",
    "def flatten(l):\n",
    "    for i in l:\n",
    "        if type(i)==list:\n",
    "            flatten(i)\n",
    "        else:\n",
    "            flatList.append(i)\n",
    "    return flatList\n",
    "\n",
    "flatten(l)"
   ]
  },
  {
   "cell_type": "code",
   "execution_count": null,
   "id": "0cd4f045",
   "metadata": {},
   "outputs": [],
   "source": []
  }
 ],
 "metadata": {
  "kernelspec": {
   "display_name": "Python 3",
   "language": "python",
   "name": "python3"
  },
  "language_info": {
   "codemirror_mode": {
    "name": "ipython",
    "version": 3
   },
   "file_extension": ".py",
   "mimetype": "text/x-python",
   "name": "python",
   "nbconvert_exporter": "python",
   "pygments_lexer": "ipython3",
   "version": "3.7.1"
  }
 },
 "nbformat": 4,
 "nbformat_minor": 5
}
